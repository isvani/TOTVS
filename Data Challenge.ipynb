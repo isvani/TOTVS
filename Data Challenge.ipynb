{
 "cells": [
  {
   "cell_type": "markdown",
   "metadata": {},
   "source": [
    "# Data Challenge\n",
    "\n",
    "The challenge consists in processing a given dataset of transactions (*notas fiscais eletrônicas*) from a restaurant:\n",
    "\n",
    "1. Parse and extract the data.\n",
    "2. Identify a pattern on any set of fields that can help predict how much a customer will spend.\n",
    "3. Calculate a sales forecast for the next week.\n",
    "\n",
    "The input dataset has a `json` format. We will use the following python packages for that processing:"
   ]
  },
  {
   "cell_type": "code",
   "execution_count": 1,
   "metadata": {
    "collapsed": true
   },
   "outputs": [],
   "source": [
    "import json # to read the input dataset\n",
    "import pandas as pd # data processing\n",
    "from datetime import datetime # datetime processing\n",
    "import calendar # datetime processing\n",
    "import matplotlib.pyplot as plt # data plot\n",
    "import seaborn as sns # data plot\n",
    "import numpy as np # linear algebra\n",
    "from sklearn import preprocessing # machine learning package\n",
    "\n",
    "%matplotlib inline"
   ]
  },
  {
   "cell_type": "markdown",
   "metadata": {},
   "source": [
    "Now we can read the dataset and output its first row as follows:"
   ]
  },
  {
   "cell_type": "code",
   "execution_count": 2,
   "metadata": {
    "collapsed": false
   },
   "outputs": [
    {
     "data": {
      "text/plain": [
       "{'complemento': {'valorTotal': 24.9},\n",
       " 'dets': [{'nItem': '1',\n",
       "   'prod': {'indTot': '1',\n",
       "    'qCom': 1.0,\n",
       "    'uCom': 'UN',\n",
       "    'vProd': 3.5,\n",
       "    'vUnCom': 3.5,\n",
       "    'xProd': 'AGUA'}},\n",
       "  {'nItem': '2',\n",
       "   'prod': {'indTot': '1',\n",
       "    'qCom': 0.312,\n",
       "    'uCom': 'KG',\n",
       "    'vProd': 21.4,\n",
       "    'vUnCom': 68.6,\n",
       "    'xProd': 'BUFFET'}}],\n",
       " 'emit': {'cnpj': '01.234.567/0001-89',\n",
       "  'enderEmit': {'fone': '1-650-933-4902',\n",
       "   'uf': 'CA',\n",
       "   'xBairro': '',\n",
       "   'xLgr': '650 Castro St. unit 210',\n",
       "   'xMun': 'Mountain View',\n",
       "   'xPais': 'United States'},\n",
       "  'xFant': 'TOTVS Labs'},\n",
       " 'ide': {'dhEmi': {'$date': '2016-01-05T12:01:54.000Z'}, 'natOp': 'VENDA'},\n",
       " 'infAdic': {'infCpl': 'Mesa 2'},\n",
       " 'total': {'icmsTot': {'vDesc': 0.0,\n",
       "   'vFrete': 0.0,\n",
       "   'vOutro': 0.0,\n",
       "   'vProd': 24.9,\n",
       "   'vSeg': 0.0,\n",
       "   'vTotTrib': 2.53,\n",
       "   'vbc': 0.0,\n",
       "   'vbcst': 0.0,\n",
       "   'vcofins': 0.0,\n",
       "   'vicms': 0.0,\n",
       "   'vicmsDeson': 0.0,\n",
       "   'vii': 0.0,\n",
       "   'vipi': 0.0,\n",
       "   'vnf': 24.9,\n",
       "   'vpis': 0.0,\n",
       "   'vst': 0.0}},\n",
       " 'versaoDocumento': 1.0}"
      ]
     },
     "execution_count": 2,
     "metadata": {},
     "output_type": "execute_result"
    }
   ],
   "source": [
    "data = json.load(open('sample.txt'))\n",
    "data[0]"
   ]
  },
  {
   "cell_type": "markdown",
   "metadata": {},
   "source": [
    "We can see that the dataset contains various nested field values; and only one nested dataset, named `dets`. Package `json` allows to parse such nested field values easily. For example, we can read the date that transaction #0 happened and convert it to `datetime` by using a single line of code:  "
   ]
  },
  {
   "cell_type": "code",
   "execution_count": 3,
   "metadata": {
    "collapsed": false
   },
   "outputs": [
    {
     "data": {
      "text/plain": [
       "datetime.datetime(2016, 1, 5, 12, 1, 54)"
      ]
     },
     "execution_count": 3,
     "metadata": {},
     "output_type": "execute_result"
    }
   ],
   "source": [
    "# converting str to dates\n",
    "datetime.strptime(data[0]['ide']['dhEmi']['$date'], '%Y-%m-%dT%H:%M:%S.%fZ')"
   ]
  },
  {
   "cell_type": "markdown",
   "metadata": {},
   "source": [
    "The nested datasets `dets` store characteristics of the products purchased in each transaction. An interesting point is how many products we are dealing with:"
   ]
  },
  {
   "cell_type": "code",
   "execution_count": 4,
   "metadata": {
    "collapsed": false
   },
   "outputs": [
    {
     "data": {
      "text/plain": [
       "['sushi especial',\n",
       " 'sake',\n",
       " 'refrigerante',\n",
       " 'bacardi',\n",
       " 'cha',\n",
       " 'bule cha',\n",
       " 'whisky',\n",
       " 'buffet',\n",
       " 'caipiroska',\n",
       " 'cerveja lata',\n",
       " 'suco',\n",
       " 'cerveja',\n",
       " 'sobremesa',\n",
       " 'harumaki',\n",
       " 'limonada',\n",
       " 'docinhos',\n",
       " 'cafe expresso',\n",
       " 'agua',\n",
       " 'sashimi',\n",
       " 'caipirinha',\n",
       " 'uramaki',\n",
       " 'temaki',\n",
       " 'vinho',\n",
       " 'yakissoba']"
      ]
     },
     "execution_count": 4,
     "metadata": {},
     "output_type": "execute_result"
    }
   ],
   "source": [
    "# get products\n",
    "prods = set()\n",
    "for i in range(0, len(data)):\n",
    "    for j in range(0, len(data[i]['dets'])):\n",
    "        prods.add(data[i]['dets'][j]['prod']['xProd'].lower())\n",
    "\n",
    "\n",
    "prods = list(prods) # to make easier future processing\n",
    "prods"
   ]
  },
  {
   "cell_type": "markdown",
   "metadata": {},
   "source": [
    "Wow! We have a relatively small number of products. And how many restaurants exist in that dataset?"
   ]
  },
  {
   "cell_type": "code",
   "execution_count": 5,
   "metadata": {
    "collapsed": false
   },
   "outputs": [
    {
     "data": {
      "text/plain": [
       "{'01.234.567/0001-89'}"
      ]
     },
     "execution_count": 5,
     "metadata": {},
     "output_type": "execute_result"
    }
   ],
   "source": [
    "# get all cnpjs\n",
    "cnpjs = set()\n",
    "for i in range(0, len(data)):\n",
    "    cnpjs.add(data[i]['emit']['cnpj'])\n",
    "\n",
    "cnpjs"
   ]
  },
  {
   "cell_type": "markdown",
   "metadata": {},
   "source": [
    "We only have one restaurant. Things are getting easier :) \n",
    "\n",
    "We also have a field for the type of transaction. Let's take a look at that field: "
   ]
  },
  {
   "cell_type": "code",
   "execution_count": 6,
   "metadata": {
    "collapsed": false
   },
   "outputs": [
    {
     "data": {
      "text/plain": [
       "{'VENDA'}"
      ]
     },
     "execution_count": 6,
     "metadata": {},
     "output_type": "execute_result"
    }
   ],
   "source": [
    "# get all transaction natures\n",
    "opNats = set()\n",
    "for i in range(0, len(data)):\n",
    "    opNats.add(data[i]['ide']['natOp'])\n",
    "\n",
    "# just one natOp, VENDAs!\n",
    "opNats"
   ]
  },
  {
   "cell_type": "markdown",
   "metadata": {},
   "source": [
    "We only have one type of transaction too.\n",
    "\n",
    "Having in mind the above findings, we will transform the original dataset. Our objective is to store the most relevant information in such a way that a traditional data mining or machine learning algorithm can process.\n",
    "\n",
    "That way, or format, is a tabular dataset. The format of the tabular dataset consists in a set of attributes (fields), where each field value can be numeric or nominal. In prediction tasks, we also have a special attribute named class. Depending on the type of the class attribute, we will be dealing with a regression problem (for numeric class values) or with a classification problem (for nominal class values).\n",
    "\n",
    "Therefore, a natural approach is that our new tabular dataset has as many attributes as the number of products. The transformation will map one row of the original dataset to one row of the new tabular dataset. For a given transaction (row), the attribute values of our new tabular dataset will be `True` for the products purchased in that transaction, and `False` for the other products.\n",
    "\n",
    "In our tabular dataset, we will also include two important numeric attributes: the date and bill of each transaction. \"Bill\" will be our target variable (class attribute): we are interested in calculating a sales forecast for the next week. \n",
    "\n",
    "In order to calculate such a forecast, we will also sort by the transaction date.\n",
    "\n",
    "Let's create such a tabular dataset by using `pandas`:"
   ]
  },
  {
   "cell_type": "code",
   "execution_count": 7,
   "metadata": {
    "collapsed": false
   },
   "outputs": [
    {
     "data": {
      "text/plain": [
       "agua                        bool\n",
       "bacardi                     bool\n",
       "bill                     float64\n",
       "buffet                      bool\n",
       "bule cha                    bool\n",
       "cafe expresso               bool\n",
       "caipirinha                  bool\n",
       "caipiroska                  bool\n",
       "cerveja                     bool\n",
       "cerveja lata                bool\n",
       "cha                         bool\n",
       "date              datetime64[ns]\n",
       "docinhos                    bool\n",
       "harumaki                    bool\n",
       "limonada                    bool\n",
       "refrigerante                bool\n",
       "sake                        bool\n",
       "sashimi                     bool\n",
       "sobremesa                   bool\n",
       "suco                        bool\n",
       "sushi especial              bool\n",
       "temaki                      bool\n",
       "uramaki                     bool\n",
       "vinho                       bool\n",
       "whisky                      bool\n",
       "yakissoba                   bool\n",
       "dtype: object"
      ]
     },
     "execution_count": 7,
     "metadata": {},
     "output_type": "execute_result"
    }
   ],
   "source": [
    "# set up attributes\n",
    "col = list(prods)\n",
    "col.append('date')\n",
    "col.append('bill')\n",
    "# (1) Compute rows and (2) create pandas dataframe\n",
    "# (1) Compute rows\n",
    "tmp = [];\n",
    "for i in range(0, len(data)):\n",
    "    row = dict()\n",
    "\n",
    "    # set product values\n",
    "    for j in range(0, len(prods)):\n",
    "        row[prods[j]] = False\n",
    "    for j in range(0, len(data[i]['dets'])):\n",
    "        row[data[i]['dets'][j]['prod']['xProd'].lower()] = True\n",
    "    \n",
    "    # set date-time and total value\n",
    "    row['date'] = datetime.strptime(data[i]['ide']['dhEmi']['$date'], '%Y-%m-%dT%H:%M:%S.%fZ')\n",
    "    row['bill'] = data[i]['complemento']['valorTotal']\n",
    "    \n",
    "    tmp.append(row)\n",
    "\n",
    "# (2) Create pandas dataframe\n",
    "df = pd.DataFrame(tmp, columns = col)\n",
    "df.index = df.date\n",
    "df.sort_index(axis=1, ascending=True, inplace = True)\n",
    "df.dtypes"
   ]
  },
  {
   "cell_type": "markdown",
   "metadata": {},
   "source": [
    "Let's take a look at our target variable `bill`:"
   ]
  },
  {
   "cell_type": "code",
   "execution_count": 8,
   "metadata": {
    "collapsed": false
   },
   "outputs": [
    {
     "data": {
      "text/html": [
       "<div>\n",
       "<table border=\"1\" class=\"dataframe\">\n",
       "  <thead>\n",
       "    <tr style=\"text-align: right;\">\n",
       "      <th></th>\n",
       "      <th>bill</th>\n",
       "    </tr>\n",
       "  </thead>\n",
       "  <tbody>\n",
       "    <tr>\n",
       "      <th>count</th>\n",
       "      <td>1635.000000</td>\n",
       "    </tr>\n",
       "    <tr>\n",
       "      <th>mean</th>\n",
       "      <td>55.504171</td>\n",
       "    </tr>\n",
       "    <tr>\n",
       "      <th>std</th>\n",
       "      <td>39.217462</td>\n",
       "    </tr>\n",
       "    <tr>\n",
       "      <th>min</th>\n",
       "      <td>9.740000</td>\n",
       "    </tr>\n",
       "    <tr>\n",
       "      <th>25%</th>\n",
       "      <td>30.985000</td>\n",
       "    </tr>\n",
       "    <tr>\n",
       "      <th>50%</th>\n",
       "      <td>43.260000</td>\n",
       "    </tr>\n",
       "    <tr>\n",
       "      <th>75%</th>\n",
       "      <td>69.230000</td>\n",
       "    </tr>\n",
       "    <tr>\n",
       "      <th>max</th>\n",
       "      <td>608.910000</td>\n",
       "    </tr>\n",
       "  </tbody>\n",
       "</table>\n",
       "</div>"
      ],
      "text/plain": [
       "              bill\n",
       "count  1635.000000\n",
       "mean     55.504171\n",
       "std      39.217462\n",
       "min       9.740000\n",
       "25%      30.985000\n",
       "50%      43.260000\n",
       "75%      69.230000\n",
       "max     608.910000"
      ]
     },
     "execution_count": 8,
     "metadata": {},
     "output_type": "execute_result"
    }
   ],
   "source": [
    "df.describe()"
   ]
  },
  {
   "cell_type": "markdown",
   "metadata": {},
   "source": [
    "The last table speaks for itself: all bill values are approximately around its mean (55.50), but we also have some outliers (see the min and max values). \n",
    "\n",
    "Let's also apply a simple discretization method to the class values:"
   ]
  },
  {
   "cell_type": "code",
   "execution_count": 9,
   "metadata": {
    "collapsed": false
   },
   "outputs": [
    {
     "data": {
      "image/png": "[encoded data removed]",
      "text/plain": [
       "<matplotlib.figure.Figure at 0x7fb7a0e83438>"
      ]
     },
     "metadata": {},
     "output_type": "display_data"
    }
   ],
   "source": [
    "plt.figure(figsize=(12,8))\n",
    "sns.distplot(df.bill.values, bins=50, kde=False)\n",
    "plt.xlabel('Bill bin', fontsize=12)\n",
    "plt.ylabel('Count', fontsize=12)\n",
    "plt.show()"
   ]
  },
  {
   "cell_type": "markdown",
   "metadata": {},
   "source": [
    "Interesting... It looks like a nice Poisson Distribution.\n",
    "\n",
    "And what about missing values (principally for transaction dates and bills)?"
   ]
  },
  {
   "cell_type": "code",
   "execution_count": 10,
   "metadata": {
    "collapsed": false
   },
   "outputs": [
    {
     "data": {
      "text/html": [
       "<div>\n",
       "<table border=\"1\" class=\"dataframe\">\n",
       "  <thead>\n",
       "    <tr style=\"text-align: right;\">\n",
       "      <th></th>\n",
       "      <th>Column Name</th>\n",
       "      <th>Missing Count</th>\n",
       "    </tr>\n",
       "  </thead>\n",
       "  <tbody>\n",
       "  </tbody>\n",
       "</table>\n",
       "</div>"
      ],
      "text/plain": [
       "Empty DataFrame\n",
       "Columns: [Column Name, Missing Count]\n",
       "Index: []"
      ]
     },
     "execution_count": 10,
     "metadata": {},
     "output_type": "execute_result"
    }
   ],
   "source": [
    "missing_df = df.isnull().sum(axis=0).reset_index()\n",
    "missing_df.columns = ['Column Name', 'Missing Count']\n",
    "missing_df = missing_df.loc[missing_df['Missing Count']>0]\n",
    "missing_df = missing_df.sort_values(by='Missing Count')\n",
    "missing_df"
   ]
  },
  {
   "cell_type": "markdown",
   "metadata": {},
   "source": [
    "No missing values! We are lucky :)\n",
    "\n",
    "In our tabular dataset we have a lot of boolean attributes. We should take a look at their True-False rates:"
   ]
  },
  {
   "cell_type": "code",
   "execution_count": 11,
   "metadata": {
    "collapsed": false
   },
   "outputs": [
    {
     "data": {
      "image/png": "[encoded data removed]",
      "text/plain": [
       "<matplotlib.figure.Figure at 0x7fb7a10481d0>"
      ]
     },
     "metadata": {},
     "output_type": "display_data"
    }
   ],
   "source": [
    "false_count_list = []\n",
    "true_count_list = []\n",
    "cols_list = prods\n",
    "for col in cols_list:\n",
    "    false_count_list.append((df[col] == False).sum())\n",
    "    true_count_list.append((df[col] == True).sum())\n",
    "\n",
    "N = len(cols_list)\n",
    "ind = np.arange(N)\n",
    "width = 0.5\n",
    "\n",
    "plt.figure(figsize = (15,15))\n",
    "p1 = plt.barh(ind, false_count_list, width, color='red')\n",
    "p2 = plt.barh(ind, true_count_list, width, left=false_count_list, color=\"blue\")\n",
    "plt.yticks(ind, cols_list)\n",
    "plt.legend((p1[0], p2[0]), ('False Count', 'True Count'))\n",
    "plt.show()"
   ]
  },
  {
   "cell_type": "markdown",
   "metadata": {},
   "source": [
    "The last figure shows that all transactions contain buffet as a product. Therefore, attribute `buffet` is useless for our prediction task. Many attributes are also highly unbalanced (for example, `vinho`), so we might need to apply some resampling method in order to generate more representative records (instances, examples) for our tabular dataset.\n",
    "\n",
    "Here another interesting question: how do bills behave with respect to the day of week?"
   ]
  },
  {
   "cell_type": "code",
   "execution_count": 12,
   "metadata": {
    "collapsed": false
   },
   "outputs": [
    {
     "data": {
      "text/html": [
       "<div>\n",
       "<table border=\"1\" class=\"dataframe\">\n",
       "  <thead>\n",
       "    <tr style=\"text-align: right;\">\n",
       "      <th></th>\n",
       "      <th>Bill</th>\n",
       "    </tr>\n",
       "    <tr>\n",
       "      <th>Day of Week</th>\n",
       "      <th></th>\n",
       "    </tr>\n",
       "  </thead>\n",
       "  <tbody>\n",
       "    <tr>\n",
       "      <th>Friday</th>\n",
       "      <td>9042.46</td>\n",
       "    </tr>\n",
       "    <tr>\n",
       "      <th>Monday</th>\n",
       "      <td>12076.14</td>\n",
       "    </tr>\n",
       "    <tr>\n",
       "      <th>Saturday</th>\n",
       "      <td>10858.63</td>\n",
       "    </tr>\n",
       "    <tr>\n",
       "      <th>Thursday</th>\n",
       "      <td>12872.85</td>\n",
       "    </tr>\n",
       "    <tr>\n",
       "      <th>Tuesday</th>\n",
       "      <td>19869.12</td>\n",
       "    </tr>\n",
       "    <tr>\n",
       "      <th>Wednesday</th>\n",
       "      <td>26030.12</td>\n",
       "    </tr>\n",
       "  </tbody>\n",
       "</table>\n",
       "</div>"
      ],
      "text/plain": [
       "                 Bill\n",
       "Day of Week          \n",
       "Friday        9042.46\n",
       "Monday       12076.14\n",
       "Saturday     10858.63\n",
       "Thursday     12872.85\n",
       "Tuesday      19869.12\n",
       "Wednesday    26030.12"
      ]
     },
     "execution_count": 12,
     "metadata": {},
     "output_type": "execute_result"
    }
   ],
   "source": [
    "# getting total counts per day of week\n",
    "\n",
    "# dow = day of week\n",
    "df_dow = pd.DataFrame()\n",
    "df_dow['Day of Week'] = df['date'].apply(lambda x: x.weekday()) # get the weekday index, between 0 and 6\n",
    "df_dow['Day of Week'] = df_dow['Day of Week'].apply(lambda x: calendar.day_name[x])\n",
    "df_dow['Bill'] = df['bill']\n",
    "\n",
    "df_dow.groupby('Day of Week').sum()"
   ]
  },
  {
   "cell_type": "markdown",
   "metadata": {},
   "source": [
    "According to the last table, it seems like that restaurant have some kind of promotion on Wednesdays, and maybe it is more expensive on Fridays :)\n",
    "\n",
    "It also seems like the restaurant is closed on Sundays.\n",
    "\n",
    "We can see a similar pattern in bill counts:"
   ]
  },
  {
   "cell_type": "code",
   "execution_count": 13,
   "metadata": {
    "collapsed": false
   },
   "outputs": [
    {
     "data": {
      "text/html": [
       "<div>\n",
       "<table border=\"1\" class=\"dataframe\">\n",
       "  <thead>\n",
       "    <tr style=\"text-align: right;\">\n",
       "      <th></th>\n",
       "      <th>Bill</th>\n",
       "    </tr>\n",
       "    <tr>\n",
       "      <th>Day of Week</th>\n",
       "      <th></th>\n",
       "    </tr>\n",
       "  </thead>\n",
       "  <tbody>\n",
       "    <tr>\n",
       "      <th>Friday</th>\n",
       "      <td>219</td>\n",
       "    </tr>\n",
       "    <tr>\n",
       "      <th>Monday</th>\n",
       "      <td>232</td>\n",
       "    </tr>\n",
       "    <tr>\n",
       "      <th>Saturday</th>\n",
       "      <td>177</td>\n",
       "    </tr>\n",
       "    <tr>\n",
       "      <th>Thursday</th>\n",
       "      <td>265</td>\n",
       "    </tr>\n",
       "    <tr>\n",
       "      <th>Tuesday</th>\n",
       "      <td>364</td>\n",
       "    </tr>\n",
       "    <tr>\n",
       "      <th>Wednesday</th>\n",
       "      <td>378</td>\n",
       "    </tr>\n",
       "  </tbody>\n",
       "</table>\n",
       "</div>"
      ],
      "text/plain": [
       "             Bill\n",
       "Day of Week      \n",
       "Friday        219\n",
       "Monday        232\n",
       "Saturday      177\n",
       "Thursday      265\n",
       "Tuesday       364\n",
       "Wednesday     378"
      ]
     },
     "execution_count": 13,
     "metadata": {},
     "output_type": "execute_result"
    }
   ],
   "source": [
    "df_dow.groupby('Day of Week').count()"
   ]
  },
  {
   "cell_type": "markdown",
   "metadata": {},
   "source": [
    "In order to calculate sales forecast for the next week, let's examine how many weeks with are dealing with: "
   ]
  },
  {
   "cell_type": "code",
   "execution_count": 14,
   "metadata": {
    "collapsed": false
   },
   "outputs": [
    {
     "data": {
      "text/html": [
       "<div>\n",
       "<table border=\"1\" class=\"dataframe\">\n",
       "  <thead>\n",
       "    <tr style=\"text-align: right;\">\n",
       "      <th></th>\n",
       "      <th>Bill</th>\n",
       "    </tr>\n",
       "    <tr>\n",
       "      <th>Week</th>\n",
       "      <th></th>\n",
       "    </tr>\n",
       "  </thead>\n",
       "  <tbody>\n",
       "    <tr>\n",
       "      <th>1</th>\n",
       "      <td>24018.88</td>\n",
       "    </tr>\n",
       "    <tr>\n",
       "      <th>2</th>\n",
       "      <td>32139.80</td>\n",
       "    </tr>\n",
       "    <tr>\n",
       "      <th>3</th>\n",
       "      <td>34590.64</td>\n",
       "    </tr>\n",
       "  </tbody>\n",
       "</table>\n",
       "</div>"
      ],
      "text/plain": [
       "          Bill\n",
       "Week          \n",
       "1     24018.88\n",
       "2     32139.80\n",
       "3     34590.64"
      ]
     },
     "execution_count": 14,
     "metadata": {},
     "output_type": "execute_result"
    }
   ],
   "source": [
    "# getting total counts per day of week\n",
    "\n",
    "import calendar\n",
    "\n",
    "df_week = pd.DataFrame()\n",
    "df_week['Week'] = df['date'].apply(lambda x: x.isocalendar()[1]) # get the weekday index, between 0 and 6\n",
    "df_week['Bill'] = df['bill']\n",
    "\n",
    "df_week.groupby('Week').sum()"
   ]
  },
  {
   "cell_type": "markdown",
   "metadata": {
    "collapsed": true
   },
   "source": [
    "The dataset only contains transactions for a period of three weeks. Unfortunatelly, that information is insufficient to build a prediction model. We will need more records even to compute relatively accurate sales forecast for the next day.\n",
    "\n",
    "With a sufficient amount of data, a candidate prediction algorithm is XGBoost, which dominates many Kaggle competitions.\n",
    "\n",
    "An interesting prediction task is to know if the income will increase for the next day (week, \n",
    "or a given period of time in general). In this case, the target variable can be dichotomic and, different from sales forecast, we will be facing a classification problem.\n",
    "\n",
    "Looking forward to seeing more data to do so :)"
   ]
  }
 ],
 "metadata": {
  "kernelspec": {
   "display_name": "Python 3",
   "language": "python",
   "name": "python3"
  },
  "language_info": {
   "codemirror_mode": {
    "name": "ipython",
    "version": 3
   },
   "file_extension": ".py",
   "mimetype": "text/x-python",
   "name": "python",
   "nbconvert_exporter": "python",
   "pygments_lexer": "ipython3",
   "version": "3.5.3"
  }
 },
 "nbformat": 4,
 "nbformat_minor": 2
}
